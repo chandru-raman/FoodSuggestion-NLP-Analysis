{
 "cells": [
  {
   "cell_type": "code",
   "execution_count": null,
   "id": "27bc7b1d-a467-467f-be05-97af1832e04a",
   "metadata": {},
   "outputs": [],
   "source": [
    "import pandas as pd"
   ]
  },
  {
   "cell_type": "code",
   "execution_count": 7,
   "id": "650d2a32-5415-48f1-8f2b-0e843c5a3ea9",
   "metadata": {},
   "outputs": [
    {
     "name": "stdout",
     "output_type": "stream",
     "text": [
      "<class 'pandas.core.frame.DataFrame'>\n",
      "RangeIndex: 17686 entries, 0 to 17685\n",
      "Data columns (total 9 columns):\n",
      " #   Column           Non-Null Count  Dtype  \n",
      "---  ------           --------------  -----  \n",
      " 0   Person_ID        17686 non-null  int64  \n",
      " 1   Age              17686 non-null  int64  \n",
      " 2   Gender           17686 non-null  object \n",
      " 3   Region           17686 non-null  object \n",
      " 4   Diet_Type        17686 non-null  object \n",
      " 5   Health_Impact    17686 non-null  object \n",
      " 6   Common_Diseases  7037 non-null   object \n",
      " 7   Exercise_Level   17686 non-null  object \n",
      " 8   BMI              17686 non-null  float64\n",
      "dtypes: float64(1), int64(2), object(6)\n",
      "memory usage: 1.2+ MB\n"
     ]
    }
   ],
   "source": [
    "file_path = \"C:/Users/Chandru R/Desktop/Document/Cleaned Excel Data/food_impact_india - 2024.xlsx\"  \n",
    "\n",
    "df = pd.read_excel(file_path)\n",
    "\n",
    "df.info()"
   ]
  },
  {
   "cell_type": "code",
   "execution_count": 8,
   "id": "c1c3b767-f519-438f-87cb-d5d265f3db47",
   "metadata": {},
   "outputs": [
    {
     "name": "stdout",
     "output_type": "stream",
     "text": [
      "                 Person_ID       Age    Gender    Region  Diet_Type  \\\n",
      "Person_ID         1.000000 -0.004683  0.002480 -0.022216  -0.001891   \n",
      "Age              -0.004683  1.000000 -0.000630 -0.015202   0.010659   \n",
      "Gender            0.002480 -0.000630  1.000000  0.001282  -0.003442   \n",
      "Region           -0.022216 -0.015202  0.001282  1.000000   0.003600   \n",
      "Diet_Type        -0.001891  0.010659 -0.003442  0.003600   1.000000   \n",
      "Health_Impact     0.005104  0.011096 -0.011053  0.000685  -0.005933   \n",
      "Common_Diseases   0.016305  0.010285 -0.003627 -0.010352   0.014514   \n",
      "Exercise_Level    0.012597 -0.014076 -0.004872 -0.001105   0.012138   \n",
      "BMI              -0.002592  0.006453  0.008852  0.002329   0.007980   \n",
      "\n",
      "                 Health_Impact  Common_Diseases  Exercise_Level       BMI  \n",
      "Person_ID             0.005104         0.016305        0.012597 -0.002592  \n",
      "Age                   0.011096         0.010285       -0.014076  0.006453  \n",
      "Gender               -0.011053        -0.003627       -0.004872  0.008852  \n",
      "Region                0.000685        -0.010352       -0.001105  0.002329  \n",
      "Diet_Type            -0.005933         0.014514        0.012138  0.007980  \n",
      "Health_Impact         1.000000         0.008105        0.002492 -0.001202  \n",
      "Common_Diseases       0.008105         1.000000        0.004080 -0.006243  \n",
      "Exercise_Level        0.002492         0.004080        1.000000 -0.001035  \n",
      "BMI                  -0.001202        -0.006243       -0.001035  1.000000  \n"
     ]
    }
   ],
   "source": [
    "import pandas as pd  \n",
    "\n",
    "file_path = \"C:/Users/Chandru R/Desktop/Document/Cleaned Excel Data/food_impact_india - 2024.xlsx\"  \n",
    "df = pd.read_excel(file_path)\n",
    "\n",
    "df_encoded = df.apply(lambda x: x.astype('category').cat.codes if x.dtypes == 'object' else x)  \n",
    "print(df_encoded.corr())  \n"
   ]
  },
  {
   "cell_type": "code",
   "execution_count": null,
   "id": "42a4ee28-0ff6-43e5-9813-876592a72955",
   "metadata": {},
   "outputs": [],
   "source": []
  }
 ],
 "metadata": {
  "kernelspec": {
   "display_name": "Python 3 (ipykernel)",
   "language": "python",
   "name": "python3"
  },
  "language_info": {
   "codemirror_mode": {
    "name": "ipython",
    "version": 3
   },
   "file_extension": ".py",
   "mimetype": "text/x-python",
   "name": "python",
   "nbconvert_exporter": "python",
   "pygments_lexer": "ipython3",
   "version": "3.12.7"
  }
 },
 "nbformat": 4,
 "nbformat_minor": 5
}
