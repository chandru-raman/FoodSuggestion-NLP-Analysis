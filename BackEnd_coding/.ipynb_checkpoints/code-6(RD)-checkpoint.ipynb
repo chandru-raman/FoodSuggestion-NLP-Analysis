{
 "cells": [
  {
   "cell_type": "code",
   "execution_count": 1,
   "id": "6249f874-054e-4b6f-8e4d-5c241596870a",
   "metadata": {},
   "outputs": [],
   "source": [
    "import random\n",
    "import csv\n",
    "from faker import Faker"
   ]
  },
  {
   "cell_type": "code",
   "execution_count": 2,
   "id": "935159b2-e242-4784-b8f4-966f86dc43eb",
   "metadata": {},
   "outputs": [
    {
     "name": "stdout",
     "output_type": "stream",
     "text": [
      "Data successfully saved to C:/Users/Chandru R/Desktop/Document/Excel data (csv)/bmi_data.csv\n"
     ]
    }
   ],
   "source": [
    "fake = Faker()\n",
    "def generate_fake_data(num_records=1000):\n",
    "    data = []\n",
    "    for _ in range(num_records):\n",
    "        age = random.randint(18, 99) \n",
    "        height_cm = random.uniform(150, 200) \n",
    "        weight_kg = random.uniform(40, 120) \n",
    "        height_m = height_cm / 100  \n",
    "        bmi_value = round(weight_kg / (height_m ** 2), 2) \n",
    "        data.append((bmi_value, age))\n",
    "    return data\n",
    "fake_data = generate_fake_data(1000)\n",
    "file_path = 'C:/Users/Chandru R/Desktop/Document/Excel data (csv)/bmi_data.csv'  \n",
    "with open(file_path, mode='w', newline='') as file:\n",
    "    writer = csv.writer(file)\n",
    "    writer.writerow(['bmi_value', 'age'])\n",
    "    writer.writerows(fake_data)\n",
    "print(f\"Data successfully saved to {file_path}\")"
   ]
  },
  {
   "cell_type": "code",
   "execution_count": null,
   "id": "a615a9db-5fff-473c-8444-7110f8f84498",
   "metadata": {},
   "outputs": [],
   "source": []
  }
 ],
 "metadata": {
  "kernelspec": {
   "display_name": "Python 3 (ipykernel)",
   "language": "python",
   "name": "python3"
  },
  "language_info": {
   "codemirror_mode": {
    "name": "ipython",
    "version": 3
   },
   "file_extension": ".py",
   "mimetype": "text/x-python",
   "name": "python",
   "nbconvert_exporter": "python",
   "pygments_lexer": "ipython3",
   "version": "3.12.7"
  }
 },
 "nbformat": 4,
 "nbformat_minor": 5
}
