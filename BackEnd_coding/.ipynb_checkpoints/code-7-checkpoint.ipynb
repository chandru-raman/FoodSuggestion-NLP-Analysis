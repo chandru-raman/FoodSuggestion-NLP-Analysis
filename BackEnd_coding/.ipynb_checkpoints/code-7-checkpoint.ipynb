{
 "cells": [
  {
   "cell_type": "code",
   "execution_count": 1,
   "id": "9dcdeb1d-97bd-4ee3-8f8a-263e5e765517",
   "metadata": {},
   "outputs": [],
   "source": [
    "import pandas as pd"
   ]
  },
  {
   "cell_type": "code",
   "execution_count": null,
   "id": "44a38980-6ee3-404e-8bab-8efcb04619cb",
   "metadata": {},
   "outputs": [],
   "source": []
  },
  {
   "cell_type": "code",
   "execution_count": null,
   "id": "d4c252b6-fc77-4d24-86ae-fdbaeacb9394",
   "metadata": {},
   "outputs": [],
   "source": [
    "file_path = \"C:/Users/Chandru R/Desktop/Document/CSV File Raw Data/food_impact_india - 2024.csv\"  \n",
    "try:\n",
    "    df = pd.read_csv(file_path)\n",
    "    print(\"The file is a valid CSV.\")\n",
    "    print(\"\\n--- File Info ---\")\n",
    "    print(df.info())\n",
    "\n",
    "    print(\"\\n--- First 5 Rows ---\")\n",
    "    print(df.head())\n",
    "\n",
    "except Exception as e:\n",
    "    print(\"The file is not a valid CSV.\")\n",
    "    print(\"Error:\", e)"
   ]
  },
  {
   "cell_type": "code",
   "execution_count": null,
   "id": "f1a00a36-c736-4528-95f9-ff7c92899f3c",
   "metadata": {},
   "outputs": [],
   "source": []
  },
  {
   "cell_type": "code",
   "execution_count": null,
   "id": "8ecbf97b-b174-4ea6-8abf-a001831829af",
   "metadata": {},
   "outputs": [],
   "source": [
    "# Load CSV file\n",
    "file_path = \"C:/Users/Chandru R/Desktop/Document/CSV File Raw Data/food_impact_india - 2024.csv\"  # Replace with your actual file path\n",
    "df = pd.read_csv(file_path)\n",
    "\n",
    "# Convert categorical (string) data to numerical codes\n",
    "df_encoded = df.copy()\n",
    "for col in df.select_dtypes(include=['object']).columns:\n",
    "    df_encoded[col] = df_encoded[col].astype('category').cat.codes\n",
    "\n",
    "# Compute correlation matrix\n",
    "correlation_matrix = df_encoded.corr()\n",
    "\n",
    "# Print correlation matrix\n",
    "print(correlation_matrix)\n"
   ]
  }
 ],
 "metadata": {
  "kernelspec": {
   "display_name": "Python 3 (ipykernel)",
   "language": "python",
   "name": "python3"
  },
  "language_info": {
   "codemirror_mode": {
    "name": "ipython",
    "version": 3
   },
   "file_extension": ".py",
   "mimetype": "text/x-python",
   "name": "python",
   "nbconvert_exporter": "python",
   "pygments_lexer": "ipython3",
   "version": "3.12.7"
  }
 },
 "nbformat": 4,
 "nbformat_minor": 5
}
