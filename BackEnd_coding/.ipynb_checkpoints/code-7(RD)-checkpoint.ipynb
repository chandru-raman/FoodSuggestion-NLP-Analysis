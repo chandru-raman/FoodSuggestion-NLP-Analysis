{
 "cells": [
  {
   "cell_type": "code",
   "execution_count": 1,
   "id": "89959231-271c-4a58-8c68-99cb1892d48a",
   "metadata": {},
   "outputs": [],
   "source": [
    "import random\n",
    "import csv\n",
    "from faker import Faker\n",
    "from datetime import datetime, timedelta"
   ]
  },
  {
   "cell_type": "code",
   "execution_count": 2,
   "id": "91d5efc7-e7df-4a2d-9545-78a2f83e4d51",
   "metadata": {},
   "outputs": [
    {
     "name": "stdout",
     "output_type": "stream",
     "text": [
      "Data successfully saved to C:/Users/Chandru R/Desktop/Document/Excel data (csv)/login_information.csv\n"
     ]
    }
   ],
   "source": [
    "fake = Faker()\n",
    "\n",
    "def generate_fake_email_data(num_records=1000):\n",
    "    data = []\n",
    "    start_date = datetime(2025, 1, 1)\n",
    "    end_date = datetime(2025, 3, 10)\n",
    "\n",
    "    for i in range(1, num_records + 1):\n",
    "        first_name = fake.first_name()\n",
    "        last_name = fake.last_name()\n",
    "        random_number = random.randint(100, 999)\n",
    "        email = f\"{first_name.lower()}{last_name.lower()}{random_number}@gmail.com\"\n",
    "        \n",
    "        user_name = f\"{first_name.lower()}{last_name.lower()}{random_number}\"\n",
    "        password = fake.password(length=12)  \n",
    "        \n",
    "        random_date = start_date + timedelta(days=random.randint(0, (end_date - start_date).days))\n",
    "        random_time = random.randint(0, 86400)\n",
    "        final_date = random_date + timedelta(seconds=random_time)\n",
    "        formatted_date = final_date.strftime('%Y-%m-%d %H:%M:%S')\n",
    "        \n",
    "        data.append([formatted_date, email, user_name, password])\n",
    "\n",
    "    data.sort(key=lambda x: datetime.strptime(x[0], '%Y-%m-%d %H:%M:%S'))\n",
    "\n",
    "    for index, record in enumerate(data, start=1):\n",
    "        record.insert(0, index)\n",
    "\n",
    "    return data\n",
    "\n",
    "fake_email_data = generate_fake_email_data(1000)\n",
    "\n",
    "file_path = 'C:/Users/Chandru R/Desktop/Document/Excel data (csv)/login_information.csv'\n",
    "\n",
    "with open(file_path, mode='w', newline='') as file:\n",
    "    writer = csv.writer(file)\n",
    "    writer.writerow(['s_no', 'de_date', 'email_id', 'user_name', 'password'])\n",
    "    writer.writerows(fake_email_data)\n",
    "\n",
    "print(f\"Data successfully saved to {file_path}\")\n"
   ]
  },
  {
   "cell_type": "code",
   "execution_count": null,
   "id": "ea42a83b-9ec5-4f6d-b872-e7e76867a31e",
   "metadata": {},
   "outputs": [],
   "source": []
  }
 ],
 "metadata": {
  "kernelspec": {
   "display_name": "Python 3 (ipykernel)",
   "language": "python",
   "name": "python3"
  },
  "language_info": {
   "codemirror_mode": {
    "name": "ipython",
    "version": 3
   },
   "file_extension": ".py",
   "mimetype": "text/x-python",
   "name": "python",
   "nbconvert_exporter": "python",
   "pygments_lexer": "ipython3",
   "version": "3.12.7"
  }
 },
 "nbformat": 4,
 "nbformat_minor": 5
}
