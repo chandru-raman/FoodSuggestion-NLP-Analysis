{
 "cells": [
  {
   "cell_type": "code",
   "execution_count": 3,
   "id": "04c8de5f-f82e-4ee4-a652-5a883c5a0c75",
   "metadata": {},
   "outputs": [],
   "source": [
    "import random\n",
    "import csv\n",
    "from faker import Faker"
   ]
  },
  {
   "cell_type": "code",
   "execution_count": 5,
   "id": "1e67ab12-7d56-4b24-8ad2-8639b1261f53",
   "metadata": {},
   "outputs": [
    {
     "name": "stdout",
     "output_type": "stream",
     "text": [
      "Data successfully saved to C:/Users/Chandru R/Desktop/Document/Excel data (csv)/conversation_text.csv\n"
     ]
    }
   ],
   "source": [
    "# Initialize Faker instance\n",
    "fake = Faker()\n",
    "\n",
    "# Positive and negative words\n",
    "positive_words = ['love', 'amazing', 'great', 'fantastic', 'happy', 'good', 'excellent', 'positive']\n",
    "negative_words = ['worst', 'bad', 'hate', 'horrible', 'poor', 'negative', 'disappointing', 'sad']\n",
    "\n",
    "# Define a list of positive and negative fitness-related words\n",
    "fitness_related_words = [\n",
    "    'exercise', 'workout', 'fitness', 'strength', 'endurance', 'cardio', 'muscle', \n",
    "    'weightlifting', 'yoga', 'stretching', 'flexibility', 'health', 'wellness', \n",
    "    'bodybuilding', 'hiit', 'running', 'cycling', 'aerobics', 'pilates', 'recovery', \n",
    "    'training', 'stamina', 'core', 'weight loss', 'fat loss', 'calisthenics', 'strength training', \n",
    "    'powerlifting', 'resistance training', 'bodyweight exercises', 'squat', 'push-up', \n",
    "    'deadlift', 'plank', 'burpees', 'gym', 'personal trainer', 'fitness goals', 'performance', \n",
    "    'muscle gain', 'cardiovascular', 'fitness journey', 'healthy lifestyle', 'sports', \n",
    "    'motivation', 'active lifestyle', \"fit\"\n",
    "]\n",
    "\n",
    "# Define a list of diet-related words\n",
    "diet_related_words = [\n",
    "    'nutrition', 'healthy eating', 'calories', 'macronutrients', 'micronutrients', \n",
    "    'carbohydrates', 'proteins', 'fats', 'fiber', 'vitamins', 'minerals', 'meal plan', \n",
    "    'portion control', 'balanced diet', 'low-carb', 'keto', 'paleo', 'vegetarian', \n",
    "    'vegan', 'intermittent fasting', 'detox', 'gluten-free', 'organic', 'whole foods', \n",
    "    'processed foods', 'sugar-free', 'high-protein', 'low-fat', 'low-sodium', 'Mediterranean diet', \n",
    "    'meal prep', 'superfoods', 'antioxidants', 'water intake', 'hydration', 'nutrition labels', \n",
    "    'dietary restrictions', 'healthy snacks', 'gmo-free', 'clean eating', 'weight loss', \n",
    "    'calorie deficit', 'calorie surplus', 'food pyramid', 'food diary', 'portion sizes', 'nutrient-dense', \"diet\"\n",
    "]\n",
    "\n",
    "# Function to generate random fitness-related or diet-related conversations\n",
    "def generate_fake_conversations(num_records=1000):\n",
    "    data = []\n",
    "    \n",
    "    for _ in range(num_records):\n",
    "        # Randomly decide whether the conversation is fitness or diet related\n",
    "        is_fitness_related = random.choice([True, False])\n",
    "        \n",
    "        # Pick a random tone (positive or negative)\n",
    "        tone = random.choice([positive_words, negative_words])\n",
    "        \n",
    "        # Select a random fitness or diet related word\n",
    "        if is_fitness_related:\n",
    "            topic_word = random.choice(fitness_related_words)\n",
    "        else:\n",
    "            topic_word = random.choice(diet_related_words)\n",
    "        \n",
    "        # Create a random conversation\n",
    "        conversation = f\"I {random.choice(tone)} my {topic_word} session today!\"\n",
    "        \n",
    "        # For more varied sentences, add more randomness\n",
    "        if random.choice([True, False]):\n",
    "            conversation += f\" It really made a difference in my {random.choice(fitness_related_words)}!\"\n",
    "        \n",
    "        # If the tone is negative, make sure the conversation reflects that\n",
    "        if tone == negative_words:\n",
    "            conversation = f\"Today was the {random.choice(negative_words)} day for my {topic_word}. I feel so {random.choice(negative_words)} about it.\"\n",
    "        \n",
    "        data.append([conversation])  # Append the conversation as a single-item list\n",
    "    \n",
    "    return data\n",
    "\n",
    "# Generate 1000 fake conversations\n",
    "fake_conversations = generate_fake_conversations(1000)\n",
    "\n",
    "# Define the CSV file path where you want to save the data\n",
    "file_path = 'C:/Users/Chandru R/Desktop/Document/Excel data (csv)/conversation_text.csv'  # Replace with your desired file path\n",
    "\n",
    "# Write the data into a CSV file\n",
    "with open(file_path, mode='w', newline='') as file:\n",
    "    writer = csv.writer(file)\n",
    "    \n",
    "    # Write the header row\n",
    "    writer.writerow(['text_message'])\n",
    "    \n",
    "    # Write the fake conversation data\n",
    "    writer.writerows(fake_conversations)\n",
    "\n",
    "print(f\"Data successfully saved to {file_path}\")\n"
   ]
  },
  {
   "cell_type": "code",
   "execution_count": null,
   "id": "5b98ca57-14bf-45e8-8531-690a1c78be12",
   "metadata": {},
   "outputs": [],
   "source": []
  }
 ],
 "metadata": {
  "kernelspec": {
   "display_name": "Python 3 (ipykernel)",
   "language": "python",
   "name": "python3"
  },
  "language_info": {
   "codemirror_mode": {
    "name": "ipython",
    "version": 3
   },
   "file_extension": ".py",
   "mimetype": "text/x-python",
   "name": "python",
   "nbconvert_exporter": "python",
   "pygments_lexer": "ipython3",
   "version": "3.12.7"
  }
 },
 "nbformat": 4,
 "nbformat_minor": 5
}
