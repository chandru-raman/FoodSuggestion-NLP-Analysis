{
 "cells": [
  {
   "cell_type": "markdown",
   "id": "da45f4e9-26b0-4406-9a19-380a73fe0d3c",
   "metadata": {},
   "source": [
    "## Workout vs Diet Related Text Analysis"
   ]
  },
  {
   "cell_type": "code",
   "execution_count": 1,
   "id": "c2549c78-3ddb-47a7-a2ea-bf38c45211ad",
   "metadata": {},
   "outputs": [],
   "source": [
    "import pandas as pd\n",
    "import string\n",
    "import nltk\n",
    "import re\n",
    "from nltk.tokenize import word_tokenize"
   ]
  },
  {
   "cell_type": "code",
   "execution_count": 2,
   "id": "d674e7a9-bcbc-499a-8c0c-cad0e5351b05",
   "metadata": {},
   "outputs": [],
   "source": [
    "workout_related_words = [\n",
    "    'exercise', 'workout', 'fitness', 'strength', 'endurance', 'cardio', 'muscle', \n",
    "    'weightlifting', 'yoga', 'stretching', 'flexibility', 'health', 'wellness', \n",
    "    'bodybuilding', 'hiit', 'running', 'cycling', 'aerobics', 'pilates', 'recovery', \n",
    "    'training', 'stamina', 'core', 'weight loss', 'fat loss', 'calisthenics', 'strength training', \n",
    "    'powerlifting', 'resistance training', 'bodyweight exercises', 'squat', 'push-up', \n",
    "    'deadlift', 'plank', 'burpees', 'gym', 'personal trainer', 'fitness goals', 'performance', \n",
    "    'muscle gain', 'cardiovascular', 'fitness journey', 'healthy lifestyle', 'sports', \n",
    "    'motivation', 'active lifestyle',\"fit\"\n",
    "]\n",
    "\n",
    "diet_related_words = [\n",
    "    'nutrition', 'healthy eating', 'calories', 'macronutrients', 'micronutrients', \n",
    "    'carbohydrates', 'proteins', 'fats', 'fiber', 'vitamins', 'minerals', 'meal plan', \n",
    "    'portion control', 'balanced diet', 'low-carb', 'keto', 'paleo', 'vegetarian', \n",
    "    'vegan', 'intermittent fasting', 'detox', 'gluten-free', 'organic', 'whole foods', \n",
    "    'processed foods', 'sugar-free', 'high-protein', 'low-fat', 'low-sodium', 'Mediterranean diet', \n",
    "    'meal prep', 'superfoods', 'antioxidants', 'water intake', 'hydration', 'nutrition labels', \n",
    "    'dietary restrictions', 'healthy snacks', 'gmo-free', 'clean eating', 'weight loss', \n",
    "    'calorie deficit', 'calorie surplus', 'food pyramid', 'food diary', 'portion sizes', 'nutrient-dense',\"diet\"\n",
    "]\n"
   ]
  },
  {
   "cell_type": "code",
   "execution_count": 3,
   "id": "6cb33538-863b-4a13-8fb9-1cc2be413d27",
   "metadata": {},
   "outputs": [],
   "source": [
    "csv_file_path = r'C:\\Users\\Chandru R\\Desktop\\Document\\MYSQL Data (CSV Format DataSet)\\Text Message\\conversation_text.csv'  \n",
    "df = pd.read_csv(csv_file_path)"
   ]
  },
  {
   "cell_type": "code",
   "execution_count": 4,
   "id": "d1ee2818-9dd3-4053-94c3-de105f98eb40",
   "metadata": {},
   "outputs": [
    {
     "name": "stdout",
     "output_type": "stream",
     "text": [
      "Original Data:\n",
      "   chat_row                                       text_message\n",
      "0         1  Today was the horrible day for my sugar-free. ...\n",
      "1         2  Today was the horrible day for my gym. I feel ...\n",
      "2         3  I great my sports session today! It really mad...\n",
      "3         4  Today was the bad day for my plank. I feel so ...\n",
      "4         5  Today was the disappointing day for my nutrien...\n"
     ]
    }
   ],
   "source": [
    "print(\"Original Data:\")\n",
    "print(df.head())"
   ]
  },
  {
   "cell_type": "code",
   "execution_count": 5,
   "id": "040c81e7-78cd-4aa9-a7de-d4837397fcc3",
   "metadata": {},
   "outputs": [],
   "source": [
    "if 'text_message' not in df.columns:\n",
    "    print(f\"Error: 'message' column not found. Available columns are: {df.columns.tolist()}\")\n",
    "    exit()"
   ]
  },
  {
   "cell_type": "code",
   "execution_count": 6,
   "id": "e56dbb4b-9030-4e5b-bbdf-0a13a46f2d92",
   "metadata": {},
   "outputs": [
    {
     "name": "stderr",
     "output_type": "stream",
     "text": [
      "[nltk_data] Downloading package punkt_tab to C:\\Users\\Chandru\n",
      "[nltk_data]     R\\AppData\\Roaming\\nltk_data...\n",
      "[nltk_data]   Package punkt_tab is already up-to-date!\n"
     ]
    },
    {
     "data": {
      "text/plain": [
       "True"
      ]
     },
     "execution_count": 6,
     "metadata": {},
     "output_type": "execute_result"
    }
   ],
   "source": [
    "nltk.download('punkt_tab')  # Download the 'punkt' tokenizer model (this is used for word tokenization)"
   ]
  },
  {
   "cell_type": "code",
   "execution_count": 7,
   "id": "a6bfe6af-acfd-489a-9a46-5a92054790f9",
   "metadata": {},
   "outputs": [],
   "source": [
    "def clean_text(text):\n",
    "    text = text.lower()  \n",
    "    text = re.sub(r\"[@/{}[]/#!^$%&|~<>?^a-zA-Z0-9\\s]\", '', text)\n",
    "    tokens = word_tokenize(text)\n",
    "    return tokens\n",
    "df['cleaned_text'] = df['text_message'].apply(clean_text)"
   ]
  },
  {
   "cell_type": "code",
   "execution_count": 8,
   "id": "2aa78cba-7785-4e66-970b-c0b2620670e4",
   "metadata": {},
   "outputs": [
    {
     "name": "stdout",
     "output_type": "stream",
     "text": [
      "\n",
      "Cleaned Data:\n",
      "                                        text_message  \\\n",
      "0  Today was the horrible day for my sugar-free. ...   \n",
      "1  Today was the horrible day for my gym. I feel ...   \n",
      "2  I great my sports session today! It really mad...   \n",
      "3  Today was the bad day for my plank. I feel so ...   \n",
      "4  Today was the disappointing day for my nutrien...   \n",
      "\n",
      "                                        cleaned_text  \n",
      "0  [today, was, the, horrible, day, for, my, suga...  \n",
      "1  [today, was, the, horrible, day, for, my, gym,...  \n",
      "2  [i, great, my, sports, session, today, !, it, ...  \n",
      "3  [today, was, the, bad, day, for, my, plank, .,...  \n",
      "4  [today, was, the, disappointing, day, for, my,...  \n"
     ]
    }
   ],
   "source": [
    "print(\"\\nCleaned Data:\")\n",
    "print(df[['text_message', 'cleaned_text']].head())"
   ]
  },
  {
   "cell_type": "code",
   "execution_count": 9,
   "id": "d355f2dd-a661-44a8-af52-13cc28e4abb9",
   "metadata": {},
   "outputs": [],
   "source": [
    "def count_words(tokens, word_list): # 7.Custom Word Counting\n",
    "    return sum(1 for word in tokens if word in word_list) \n",
    "\n",
    "df['workout_related_words'] = df['cleaned_text'].apply(lambda tokens: count_words(tokens, workout_related_words))\n",
    "df['diet_related_words'] = df['cleaned_text'].apply(lambda tokens: count_words(tokens, diet_related_words))"
   ]
  },
  {
   "cell_type": "code",
   "execution_count": 10,
   "id": "d02978f4-d6f1-4728-88ec-fe343085dd81",
   "metadata": {},
   "outputs": [
    {
     "name": "stdout",
     "output_type": "stream",
     "text": [
      "\n",
      "Cleaned data has been saved to C:/Users/Chandru R/Desktop/Document/Analysed NLP data/WorkOut vs Diet Wise Analysis/most_relevant_conversation.csv\n"
     ]
    }
   ],
   "source": [
    "output_file_path = \"C:/Users/Chandru R/Desktop/Document/Analysed NLP data/WorkOut vs Diet Wise Analysis/most_relevant_conversation.csv\" \n",
    "if output_file_path:\n",
    "    df.to_csv(output_file_path, index=False)  \n",
    "    print(f\"\\nCleaned data has been saved to {output_file_path}\")\n",
    "else:\n",
    "    print(\"No file path provided. Data was not saved.\")"
   ]
  },
  {
   "cell_type": "code",
   "execution_count": null,
   "id": "21ace81c-2ecc-4328-abf8-940132c92e0b",
   "metadata": {},
   "outputs": [],
   "source": []
  },
  {
   "cell_type": "code",
   "execution_count": null,
   "id": "26fcd2d1-c0d3-47bd-8b25-4842ef6f799f",
   "metadata": {},
   "outputs": [],
   "source": []
  }
 ],
 "metadata": {
  "kernelspec": {
   "display_name": "Python 3 (ipykernel)",
   "language": "python",
   "name": "python3"
  },
  "language_info": {
   "codemirror_mode": {
    "name": "ipython",
    "version": 3
   },
   "file_extension": ".py",
   "mimetype": "text/x-python",
   "name": "python",
   "nbconvert_exporter": "python",
   "pygments_lexer": "ipython3",
   "version": "3.12.7"
  }
 },
 "nbformat": 4,
 "nbformat_minor": 5
}
