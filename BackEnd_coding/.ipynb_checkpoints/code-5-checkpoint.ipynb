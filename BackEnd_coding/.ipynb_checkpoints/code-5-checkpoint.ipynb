{
 "cells": [
  {
   "cell_type": "markdown",
   "id": "da45f4e9-26b0-4406-9a19-380a73fe0d3c",
   "metadata": {},
   "source": [
    "## Fitness Related Conversation"
   ]
  },
  {
   "cell_type": "code",
   "execution_count": 15,
   "id": "c2549c78-3ddb-47a7-a2ea-bf38c45211ad",
   "metadata": {},
   "outputs": [],
   "source": [
    "import pandas as pd\n",
    "import nltk\n",
    "import string\n",
    "import os\n",
    "from nltk.tokenize import word_tokenize\n",
    "from tkinter import Tk\n",
    "from tkinter.filedialog import asksaveasfilename"
   ]
  },
  {
   "cell_type": "code",
   "execution_count": 16,
   "id": "d674e7a9-bcbc-499a-8c0c-cad0e5351b05",
   "metadata": {},
   "outputs": [],
   "source": [
    "# Define a list of positive and negative fitness-related words\n",
    "fitness_related_words = [\n",
    "    'exercise', 'workout', 'fitness', 'strength', 'endurance', 'cardio', 'muscle', \n",
    "    'weightlifting', 'yoga', 'stretching', 'flexibility', 'health', 'wellness', \n",
    "    'bodybuilding', 'hiit', 'running', 'cycling', 'aerobics', 'pilates', 'recovery', \n",
    "    'training', 'stamina', 'core', 'weight loss', 'fat loss', 'calisthenics', 'strength training', \n",
    "    'powerlifting', 'resistance training', 'bodyweight exercises', 'squat', 'push-up', \n",
    "    'deadlift', 'plank', 'burpees', 'gym', 'personal trainer', 'fitness goals', 'performance', \n",
    "    'muscle gain', 'cardiovascular', 'fitness journey', 'healthy lifestyle', 'sports', \n",
    "    'motivation', 'active lifestyle',\"fit\"\n",
    "]\n",
    "\n",
    "diet_related_words = [\n",
    "    'nutrition', 'healthy eating', 'calories', 'macronutrients', 'micronutrients', \n",
    "    'carbohydrates', 'proteins', 'fats', 'fiber', 'vitamins', 'minerals', 'meal plan', \n",
    "    'portion control', 'balanced diet', 'low-carb', 'keto', 'paleo', 'vegetarian', \n",
    "    'vegan', 'intermittent fasting', 'detox', 'gluten-free', 'organic', 'whole foods', \n",
    "    'processed foods', 'sugar-free', 'high-protein', 'low-fat', 'low-sodium', 'Mediterranean diet', \n",
    "    'meal prep', 'superfoods', 'antioxidants', 'water intake', 'hydration', 'nutrition labels', \n",
    "    'dietary restrictions', 'healthy snacks', 'gmo-free', 'clean eating', 'weight loss', \n",
    "    'calorie deficit', 'calorie surplus', 'food pyramid', 'food diary', 'portion sizes', 'nutrient-dense',\"diet\"\n",
    "]"
   ]
  },
  {
   "cell_type": "code",
   "execution_count": 17,
   "id": "6cb33538-863b-4a13-8fb9-1cc2be413d27",
   "metadata": {},
   "outputs": [
    {
     "name": "stdout",
     "output_type": "stream",
     "text": [
      "Original Data:\n",
      "                               conversation_text\n",
      "0                Thank you for gave good service\n",
      "1             I think your fitness very bad plan\n",
      "2                      not good, but I can agree\n",
      "3  improve your website, not bad just feed back.\n",
      "4                              be fit with good.\n"
     ]
    }
   ],
   "source": [
    "# Define the CSV file path (the CSV file you want to analyze)\n",
    "csv_file_path = 'C:\\\\Users\\\\Chandru R\\\\Desktop\\\\Document\\\\Excel data (csv)\\\\conversation_text.csv'  # Change this to the path of your CSV file\n",
    "\n",
    "# Load CSV data into a pandas DataFrame\n",
    "df = pd.read_csv(csv_file_path)\n",
    "\n",
    "# Print the first few rows to inspect the column names and data\n",
    "print(\"Original Data:\")\n",
    "print(df.head())"
   ]
  },
  {
   "cell_type": "code",
   "execution_count": 18,
   "id": "040c81e7-78cd-4aa9-a7de-d4837397fcc3",
   "metadata": {},
   "outputs": [],
   "source": [
    "# Ensure you are referencing the correct column name\n",
    "if 'conversation_text' not in df.columns:\n",
    "    print(f\"Error: 'message' column not found. Available columns are: {df.columns.tolist()}\")\n",
    "    exit()"
   ]
  },
  {
   "cell_type": "code",
   "execution_count": 19,
   "id": "2bdf7091-da52-44c9-9a82-5c050a582891",
   "metadata": {},
   "outputs": [
    {
     "name": "stdout",
     "output_type": "stream",
     "text": [
      "\n",
      "Cleaned Data:\n",
      "                               conversation_text  \\\n",
      "0                Thank you for gave good service   \n",
      "1             I think your fitness very bad plan   \n",
      "2                      not good, but I can agree   \n",
      "3  improve your website, not bad just feed back.   \n",
      "4                              be fit with good.   \n",
      "\n",
      "                                        cleaned_text  \n",
      "0             [thank, you, for, gave, good, service]  \n",
      "1         [i, think, your, fitness, very, bad, plan]  \n",
      "2                    [not, good, but, i, can, agree]  \n",
      "3  [improve, your, website, not, bad, just, feed,...  \n",
      "4                              [be, fit, with, good]  \n"
     ]
    }
   ],
   "source": [
    "# Clean the text data:\n",
    "def clean_text(text):\n",
    "    # Convert text to lowercase\n",
    "    text = text.lower()\n",
    "    \n",
    "    # Remove punctuation and numbers\n",
    "    text = ''.join([char for char in text if char not in string.punctuation and not char.isdigit()])\n",
    "    \n",
    "    # Tokenize the text\n",
    "    tokens = word_tokenize(text)\n",
    "    \n",
    "    return tokens\n",
    "\n",
    "# Apply the text cleaning function to the correct column\n",
    "df['cleaned_text'] = df['conversation_text'].apply(clean_text)\n",
    "\n",
    "# Check cleaned text\n",
    "print(\"\\nCleaned Data:\")\n",
    "print(df[['conversation_text', 'cleaned_text']].head())"
   ]
  },
  {
   "cell_type": "code",
   "execution_count": 20,
   "id": "e7532012-4dce-4422-9009-b78bf5f4932e",
   "metadata": {},
   "outputs": [
    {
     "name": "stdout",
     "output_type": "stream",
     "text": [
      "\n",
      "Cleaned data has been saved to C:/Users/Chandru R/Desktop/Document/Analysed data/most_related_conversation.csv\n"
     ]
    }
   ],
   "source": [
    "# Count positive and negative words in each post\n",
    "def count_words(tokens, word_list):\n",
    "    return sum(1 for word in tokens if word in word_list)\n",
    "\n",
    "# Count positive and negative words for each row\n",
    "df['fitness_related_words'] = df['cleaned_text'].apply(lambda tokens: count_words(tokens,fitness_related_words))\n",
    "df['diet_related_words'] = df['cleaned_text'].apply(lambda tokens: count_words(tokens,diet_related_words))\n",
    "\n",
    "# Initialize Tkinter root window and hide it (it won't be shown)\n",
    "root = Tk()\n",
    "root.withdraw()  # Hide the Tkinter root window\n",
    "\n",
    "# Ask the user to select the location and file name using the file dialog\n",
    "output_file_path = asksaveasfilename(\n",
    "    title=\"Save Output As\",\n",
    "    defaultextension=\".csv\",\n",
    "    filetypes=[(\"CSV files\", \"*.csv\")],\n",
    "    initialdir=os.getcwd()  # Start the dialog at the current working directory\n",
    ")\n",
    "\n",
    "# If a path was selected, save the data\n",
    "if output_file_path:\n",
    "    df.to_csv(output_file_path, index=False)\n",
    "    print(f\"\\nCleaned data has been saved to {output_file_path}\")\n",
    "else:\n",
    "    print(\"No file selected. Data was not saved.\")\n"
   ]
  },
  {
   "cell_type": "code",
   "execution_count": null,
   "id": "d355f2dd-a661-44a8-af52-13cc28e4abb9",
   "metadata": {},
   "outputs": [],
   "source": []
  }
 ],
 "metadata": {
  "kernelspec": {
   "display_name": "Python 3 (ipykernel)",
   "language": "python",
   "name": "python3"
  },
  "language_info": {
   "codemirror_mode": {
    "name": "ipython",
    "version": 3
   },
   "file_extension": ".py",
   "mimetype": "text/x-python",
   "name": "python",
   "nbconvert_exporter": "python",
   "pygments_lexer": "ipython3",
   "version": "3.12.7"
  }
 },
 "nbformat": 4,
 "nbformat_minor": 5
}
