{
 "cells": [
  {
   "cell_type": "code",
   "execution_count": 1,
   "id": "9dcdeb1d-97bd-4ee3-8f8a-263e5e765517",
   "metadata": {},
   "outputs": [],
   "source": [
    "import pandas as pd"
   ]
  },
  {
   "cell_type": "code",
   "execution_count": 2,
   "id": "d4c252b6-fc77-4d24-86ae-fdbaeacb9394",
   "metadata": {},
   "outputs": [
    {
     "name": "stdout",
     "output_type": "stream",
     "text": [
      "<class 'pandas.core.frame.DataFrame'>\n",
      "RangeIndex: 973 entries, 0 to 972\n",
      "Data columns (total 9 columns):\n",
      " #   Column                        Non-Null Count  Dtype  \n",
      "---  ------                        --------------  -----  \n",
      " 0   Age                           973 non-null    int64  \n",
      " 1   Gender                        973 non-null    object \n",
      " 2   Weight(kg)                    973 non-null    float64\n",
      " 3   Session_Duration(hours)       973 non-null    float64\n",
      " 4   Workout_Type                  973 non-null    object \n",
      " 5   Fat_Percentage                973 non-null    float64\n",
      " 6   Water_Intake(liters)          973 non-null    float64\n",
      " 7   Workout_Frequency(days/week)  973 non-null    int64  \n",
      " 8   BMI                           973 non-null    float64\n",
      "dtypes: float64(5), int64(2), object(2)\n",
      "memory usage: 68.5+ KB\n"
     ]
    }
   ],
   "source": [
    "file_path = \"C:/Users/Chandru R/Desktop/Document/Cleaned Excel DataSet/2024 Past Data/gym_members_exercise_tracking_approximate_data(2024).xlsx\"  \n",
    "\n",
    "df = pd.read_excel(file_path)\n",
    "\n",
    "df.info()"
   ]
  },
  {
   "cell_type": "code",
   "execution_count": 3,
   "id": "7b87e250-2d4a-48ae-aa04-829b90676d33",
   "metadata": {},
   "outputs": [
    {
     "data": {
      "text/plain": [
       "(973, 9)"
      ]
     },
     "execution_count": 3,
     "metadata": {},
     "output_type": "execute_result"
    }
   ],
   "source": [
    "df.shape"
   ]
  },
  {
   "cell_type": "code",
   "execution_count": 4,
   "id": "8ecbf97b-b174-4ea6-8abf-a001831829af",
   "metadata": {},
   "outputs": [
    {
     "name": "stdout",
     "output_type": "stream",
     "text": [
      "                                   Age    Gender  Weight(kg)  \\\n",
      "Age                           1.000000  0.027175   -0.036340   \n",
      "Gender                        0.027175  1.000000    0.579340   \n",
      "Weight(kg)                   -0.036340  0.579340    1.000000   \n",
      "Session_Duration(hours)      -0.019912 -0.012200   -0.013666   \n",
      "Workout_Type                  0.044296  0.035473   -0.028724   \n",
      "Fat_Percentage                0.002370 -0.407309   -0.225512   \n",
      "Water_Intake(liters)          0.041528  0.667658    0.394276   \n",
      "Workout_Frequency(days/week)  0.008055 -0.018902   -0.011769   \n",
      "BMI                          -0.013691  0.311970    0.853158   \n",
      "\n",
      "                              Session_Duration(hours)  Workout_Type  \\\n",
      "Age                                         -0.019912      0.044296   \n",
      "Gender                                      -0.012200      0.035473   \n",
      "Weight(kg)                                  -0.013666     -0.028724   \n",
      "Session_Duration(hours)                      1.000000      0.035443   \n",
      "Workout_Type                                 0.035443      1.000000   \n",
      "Fat_Percentage                              -0.581520     -0.031913   \n",
      "Water_Intake(liters)                         0.283411      0.004411   \n",
      "Workout_Frequency(days/week)                 0.644140      0.045322   \n",
      "BMI                                         -0.006493     -0.053409   \n",
      "\n",
      "                              Fat_Percentage  Water_Intake(liters)  \\\n",
      "Age                                 0.002370              0.041528   \n",
      "Gender                             -0.407309              0.667658   \n",
      "Weight(kg)                         -0.225512              0.394276   \n",
      "Session_Duration(hours)            -0.581520              0.283411   \n",
      "Workout_Type                       -0.031913              0.004411   \n",
      "Fat_Percentage                      1.000000             -0.588683   \n",
      "Water_Intake(liters)               -0.588683              1.000000   \n",
      "Workout_Frequency(days/week)       -0.537060              0.238563   \n",
      "BMI                                -0.119258              0.213697   \n",
      "\n",
      "                              Workout_Frequency(days/week)       BMI  \n",
      "Age                                               0.008055 -0.013691  \n",
      "Gender                                           -0.018902  0.311970  \n",
      "Weight(kg)                                       -0.011769  0.853158  \n",
      "Session_Duration(hours)                           0.644140 -0.006493  \n",
      "Workout_Type                                      0.045322 -0.053409  \n",
      "Fat_Percentage                                   -0.537060 -0.119258  \n",
      "Water_Intake(liters)                              0.238563  0.213697  \n",
      "Workout_Frequency(days/week)                      1.000000  0.001645  \n",
      "BMI                                               0.001645  1.000000  \n"
     ]
    }
   ],
   "source": [
    "file_path = \"C:/Users/Chandru R/Desktop/Document/Cleaned Excel DataSet/2024 Past Data/gym_members_exercise_tracking_approximate_data(2024).xlsx\"  \n",
    "df = pd.read_excel(file_path)\n",
    "\n",
    "df_encoded = df.apply(lambda x: x.astype('category').cat.codes if x.dtypes == 'object' else x)  \n",
    "print(df_encoded.corr()) "
   ]
  },
  {
   "cell_type": "code",
   "execution_count": null,
   "id": "3e3972b1-a4fc-4250-b4d8-7e62ae85b96e",
   "metadata": {},
   "outputs": [],
   "source": []
  }
 ],
 "metadata": {
  "kernelspec": {
   "display_name": "Python 3 (ipykernel)",
   "language": "python",
   "name": "python3"
  },
  "language_info": {
   "codemirror_mode": {
    "name": "ipython",
    "version": 3
   },
   "file_extension": ".py",
   "mimetype": "text/x-python",
   "name": "python",
   "nbconvert_exporter": "python",
   "pygments_lexer": "ipython3",
   "version": "3.12.7"
  }
 },
 "nbformat": 4,
 "nbformat_minor": 5
}
