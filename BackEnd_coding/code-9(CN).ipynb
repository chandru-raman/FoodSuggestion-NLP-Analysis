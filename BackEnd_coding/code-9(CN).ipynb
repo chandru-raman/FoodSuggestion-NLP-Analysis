{
 "cells": [
  {
   "cell_type": "code",
   "execution_count": 1,
   "id": "0bb25d0e-e544-420a-8d59-e8b51ba33b16",
   "metadata": {},
   "outputs": [],
   "source": [
    "import pandas as pd"
   ]
  },
  {
   "cell_type": "code",
   "execution_count": 2,
   "id": "4af2eab4-0188-498a-8305-a99fb1c92f52",
   "metadata": {},
   "outputs": [
    {
     "name": "stdout",
     "output_type": "stream",
     "text": [
      "<class 'pandas.core.frame.DataFrame'>\n",
      "RangeIndex: 1000 entries, 0 to 999\n",
      "Data columns (total 4 columns):\n",
      " #   Column              Non-Null Count  Dtype \n",
      "---  ------              --------------  ----- \n",
      " 0   Sentiment           1000 non-null   object\n",
      " 1   Positive_Count      1000 non-null   int64 \n",
      " 2   Negative_Count      1000 non-null   int64 \n",
      " 3   Sentiment_TextBlob  1000 non-null   object\n",
      "dtypes: int64(2), object(2)\n",
      "memory usage: 31.4+ KB\n"
     ]
    }
   ],
   "source": [
    "file_path = \"C:/Users/Chandru R/Desktop/Document/Cleaned Excel DataSet/Sentiment Analysed Data/sentiment_related_data.xlsx\"  \n",
    "\n",
    "df = pd.read_excel(file_path)\n",
    "\n",
    "df.info()"
   ]
  },
  {
   "cell_type": "code",
   "execution_count": 3,
   "id": "c00741c0-bdc2-4244-9e64-582360dc2501",
   "metadata": {},
   "outputs": [
    {
     "data": {
      "text/plain": [
       "(1000, 4)"
      ]
     },
     "execution_count": 3,
     "metadata": {},
     "output_type": "execute_result"
    }
   ],
   "source": [
    "df.shape"
   ]
  },
  {
   "cell_type": "code",
   "execution_count": 4,
   "id": "58c28b5c-eae7-41d3-ae03-d0e21d8e8021",
   "metadata": {},
   "outputs": [
    {
     "name": "stdout",
     "output_type": "stream",
     "text": [
      "                    Sentiment  Positive_Count  Negative_Count  \\\n",
      "Sentiment                 1.0             1.0            -1.0   \n",
      "Positive_Count            1.0             1.0            -1.0   \n",
      "Negative_Count           -1.0            -1.0             1.0   \n",
      "Sentiment_TextBlob        1.0             1.0            -1.0   \n",
      "\n",
      "                    Sentiment_TextBlob  \n",
      "Sentiment                          1.0  \n",
      "Positive_Count                     1.0  \n",
      "Negative_Count                    -1.0  \n",
      "Sentiment_TextBlob                 1.0  \n"
     ]
    }
   ],
   "source": [
    "file_path = \"C:/Users/Chandru R/Desktop/Document/Cleaned Excel DataSet/Sentiment Analysed Data/sentiment_related_data.xlsx\"  \n",
    "df = pd.read_excel(file_path)\n",
    "\n",
    "df_encoded = df.apply(lambda x: x.astype('category').cat.codes if x.dtypes == 'object' else x)\n",
    "print(df_encoded.corr())"
   ]
  },
  {
   "cell_type": "code",
   "execution_count": null,
   "id": "ae6b0ce4-b8f8-403f-8ec8-e7d5440411d4",
   "metadata": {},
   "outputs": [],
   "source": []
  }
 ],
 "metadata": {
  "kernelspec": {
   "display_name": "Python 3 (ipykernel)",
   "language": "python",
   "name": "python3"
  },
  "language_info": {
   "codemirror_mode": {
    "name": "ipython",
    "version": 3
   },
   "file_extension": ".py",
   "mimetype": "text/x-python",
   "name": "python",
   "nbconvert_exporter": "python",
   "pygments_lexer": "ipython3",
   "version": "3.12.7"
  }
 },
 "nbformat": 4,
 "nbformat_minor": 5
}
