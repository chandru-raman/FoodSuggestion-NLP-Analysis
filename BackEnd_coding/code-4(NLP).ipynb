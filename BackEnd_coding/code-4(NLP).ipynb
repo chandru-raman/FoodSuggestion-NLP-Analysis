{
 "cells": [
  {
   "cell_type": "markdown",
   "id": "cae0050e-58d8-4e07-86cc-5c1d2993796d",
   "metadata": {},
   "source": [
    "## Sentiment analysis"
   ]
  },
  {
   "cell_type": "code",
   "execution_count": 1,
   "id": "49699f17-fabb-4133-98ac-bdeb600d2e53",
   "metadata": {},
   "outputs": [],
   "source": [
    "import pandas as pd\n",
    "import nltk\n",
    "import re\n",
    "from nltk.tokenize import word_tokenize\n",
    "from nltk.corpus import stopwords\n",
    "import string\n",
    "from textblob import TextBlob "
   ]
  },
  {
   "cell_type": "code",
   "execution_count": 2,
   "id": "4cc607e7-c41f-4df1-b162-3cc91777361a",
   "metadata": {},
   "outputs": [],
   "source": [
    "positive_words = ['love', 'amazing', 'great', 'fantastic', 'happy', 'good', 'excellent', 'positive']\n",
    "negative_words = ['worst', 'bad', 'hate', 'horrible', 'poor', 'negative', 'disappointing', 'sad']"
   ]
  },
  {
   "cell_type": "code",
   "execution_count": 3,
   "id": "9f3f2669-d356-4a74-983b-d20d743a75cf",
   "metadata": {},
   "outputs": [],
   "source": [
    "file_path = r'C:\\Users\\Chandru R\\Desktop\\Document\\MYSQL Data (CSV Format DataSet)\\Text Message\\conversation_text.csv' \n",
    "df = pd.read_csv(file_path)"
   ]
  },
  {
   "cell_type": "code",
   "execution_count": 4,
   "id": "89f3eca9-bf11-49a7-a3a9-b526b6588506",
   "metadata": {},
   "outputs": [
    {
     "name": "stdout",
     "output_type": "stream",
     "text": [
      "Columns in the CSV file: Index(['chat_row', 'text_message'], dtype='object')\n"
     ]
    }
   ],
   "source": [
    "print(\"Columns in the CSV file:\", df.columns)\n",
    "if 'text_message' not in df.columns:\n",
    "    if 'text_message' in df.columns:\n",
    "        df['text_message'] = df['text_message']\n",
    "    else:\n",
    "        raise ValueError(\"The CSV file must contain a 'text_message' column, or it must be manually set to the correct column.\")\n",
    "df['text_message'] = df['text_message'].apply(lambda x: x[0].lower() + x[1:] if len(x) > 0 else x)"
   ]
  },
  {
   "cell_type": "code",
   "execution_count": 5,
   "id": "3801684e-a823-446e-9b48-c40f4817c64d",
   "metadata": {
    "scrolled": true
   },
   "outputs": [
    {
     "name": "stderr",
     "output_type": "stream",
     "text": [
      "[nltk_data] Downloading package punkt to C:\\Users\\Chandru\n",
      "[nltk_data]     R\\AppData\\Roaming\\nltk_data...\n",
      "[nltk_data]   Package punkt is already up-to-date!\n",
      "[nltk_data] Downloading package stopwords to C:\\Users\\Chandru\n",
      "[nltk_data]     R\\AppData\\Roaming\\nltk_data...\n",
      "[nltk_data]   Package stopwords is already up-to-date!\n"
     ]
    },
    {
     "data": {
      "text/plain": [
       "True"
      ]
     },
     "execution_count": 5,
     "metadata": {},
     "output_type": "execute_result"
    }
   ],
   "source": [
    "nltk.download('punkt')  # Download the 'punkt' tokenizer model (this is used for word tokenization)\n",
    "nltk.download('stopwords')  # Download the 'stopwords' corpus (this contains common stopwords in multiple languages)"
   ]
  },
  {
   "cell_type": "code",
   "execution_count": 6,
   "id": "b562a2c0-bb7b-465f-8065-cf2065171cd8",
   "metadata": {},
   "outputs": [],
   "source": [
    "def preprocess_text(text): #1. Tokenization and 6. Text Preprocessing\n",
    "    text = text.lower()\n",
    "    text = re.sub(r\"[@/{}[]/#!^$%&|~<>?^a-zA-Z0-9\\s]\", '', text) #3.Punctuation Removal\n",
    "    tokens = word_tokenize(text)\n",
    "    stop_words = set(stopwords.words('english')) # 2. Stopword Removal\n",
    "    tokens = [word for word in tokens if word not in stop_words]\n",
    "    return tokens\n",
    "df['Tokens'] = df['text_message'].apply(preprocess_text)"
   ]
  },
  {
   "cell_type": "code",
   "execution_count": 7,
   "id": "4a3db4a1-d7f2-46c2-bd7c-734518ca6fab",
   "metadata": {},
   "outputs": [],
   "source": [
    "def handle_negations(tokens): #4.Negation Handling\n",
    "    adjusted_tokens = []\n",
    "    negation_words = ['not', 'never', 'no', 'cannot', 'don’t', \"isn't\", \"aren't\"]  \n",
    "    for i, word in enumerate(tokens):\n",
    "        if word in negation_words and i+1 < len(tokens):  \n",
    "            next_word = tokens[i+1]\n",
    "            if next_word in positive_words:\n",
    "                adjusted_tokens.append('not_' + next_word)  \n",
    "            elif next_word in negative_words:\n",
    "                adjusted_tokens.append('not_' + next_word)  \n",
    "            else:\n",
    "                adjusted_tokens.append(next_word)  \n",
    "        else:\n",
    "            adjusted_tokens.append(word) \n",
    "    return adjusted_tokens\n",
    "df['Adjusted_Tokens'] = df['Tokens'].apply(handle_negations)"
   ]
  },
  {
   "cell_type": "code",
   "execution_count": 8,
   "id": "0ab38aa1-9c18-42ad-9f83-34b1264cdfaa",
   "metadata": {},
   "outputs": [],
   "source": [
    "def analyze_sentiment(tokens): #5. Rule-Based Sentiment Analysis\n",
    "    positive_count = sum(1 for word in tokens if word in positive_words)  \n",
    "    negative_count = sum(1 for word in tokens if word in negative_words)  \n",
    "    for word in tokens:\n",
    "        if word.startswith('not_'):  \n",
    "            if word[4:] in positive_words:\n",
    "                positive_count -= 1\n",
    "                negative_count += 1 \n",
    "            elif word[4:] in negative_words:\n",
    "                negative_count -= 1\n",
    "                positive_count += 1  \n",
    "    if positive_count > negative_count:\n",
    "        sentiment = 'Positive'  \n",
    "    elif negative_count > positive_count:\n",
    "        sentiment = 'Negative'  \n",
    "    else:\n",
    "        sentiment = 'Neutral' \n",
    "    return sentiment, positive_count, negative_count\n",
    "df[['Sentiment', 'Positive_Count', 'Negative_Count']] = df['Adjusted_Tokens'].apply(lambda x: pd.Series(analyze_sentiment(x)))"
   ]
  },
  {
   "cell_type": "code",
   "execution_count": 9,
   "id": "7200470f-2c89-4bfa-9173-bbec5634a3c2",
   "metadata": {},
   "outputs": [],
   "source": [
    "def get_sentiment_blob(text):\n",
    "    blob = TextBlob(text)  \n",
    "    sentiment = blob.sentiment.polarity  \n",
    "    if sentiment > 0:\n",
    "        return 'Positive'  \n",
    "    elif sentiment < 0:\n",
    "        return 'Negative'  \n",
    "    else:\n",
    "        return 'Neutral' \n",
    "df['Sentiment_TextBlob'] = df['text_message'].apply(get_sentiment_blob)"
   ]
  },
  {
   "cell_type": "code",
   "execution_count": 10,
   "id": "3ba05092-722a-4648-a0ff-311176823944",
   "metadata": {},
   "outputs": [
    {
     "name": "stdout",
     "output_type": "stream",
     "text": [
      "\n",
      "Cleaned data has been saved to C:/Users/Chandru R/Desktop/Document/Analysed NLP data/Sentiment Analysis/feedback_with_sentiment_analysis.csv\n"
     ]
    }
   ],
   "source": [
    "output_file_path = \"C:/Users/Chandru R/Desktop/Document/Analysed NLP data/Sentiment Analysis/feedback_with_sentiment_analysis.csv\" \n",
    "if output_file_path:\n",
    "    df.to_csv(output_file_path, index=False)  \n",
    "    print(f\"\\nCleaned data has been saved to {output_file_path}\")\n",
    "else:\n",
    "    print(\"No file path provided. Data was not saved.\")"
   ]
  },
  {
   "cell_type": "code",
   "execution_count": null,
   "id": "f99a68fe-14d5-451f-b764-f204c51aebd1",
   "metadata": {},
   "outputs": [],
   "source": []
  }
 ],
 "metadata": {
  "kernelspec": {
   "display_name": "Python 3 (ipykernel)",
   "language": "python",
   "name": "python3"
  },
  "language_info": {
   "codemirror_mode": {
    "name": "ipython",
    "version": 3
   },
   "file_extension": ".py",
   "mimetype": "text/x-python",
   "name": "python",
   "nbconvert_exporter": "python",
   "pygments_lexer": "ipython3",
   "version": "3.12.7"
  }
 },
 "nbformat": 4,
 "nbformat_minor": 5
}
